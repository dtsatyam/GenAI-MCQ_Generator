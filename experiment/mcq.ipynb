{
 "cells": [
  {
   "cell_type": "code",
   "execution_count": 5,
   "metadata": {},
   "outputs": [],
   "source": [
    "import os\n",
    "import json\n",
    "import pandas as pd\n",
    "import traceback"
   ]
  },
  {
   "cell_type": "code",
   "execution_count": 6,
   "metadata": {},
   "outputs": [],
   "source": [
    "from langchain.chat_models import ChatOpenAI"
   ]
  },
  {
   "cell_type": "code",
   "execution_count": 7,
   "metadata": {},
   "outputs": [],
   "source": [
    "KEY = os.getenv(\"OPENAI_API_KEY\")"
   ]
  },
  {
   "cell_type": "code",
   "execution_count": 8,
   "metadata": {},
   "outputs": [
    {
     "name": "stderr",
     "output_type": "stream",
     "text": [
      "e:\\Gen AI - YT - Sunny\\mcq_generator\\env\\lib\\site-packages\\langchain_core\\_api\\deprecation.py:117: LangChainDeprecationWarning: The class `langchain_community.chat_models.openai.ChatOpenAI` was deprecated in langchain-community 0.0.10 and will be removed in 0.2.0. An updated version of the class exists in the langchain-openai package and should be used instead. To use it run `pip install -U langchain-openai` and import as `from langchain_openai import ChatOpenAI`.\n",
      "  warn_deprecated(\n"
     ]
    }
   ],
   "source": [
    "llm = ChatOpenAI(openai_api_key = KEY, model='gpt-3.5-turbo', temperature=0.5)"
   ]
  },
  {
   "cell_type": "code",
   "execution_count": 9,
   "metadata": {},
   "outputs": [],
   "source": [
    "from langchain.llms import OpenAI\n",
    "from langchain.prompts import PromptTemplate\n",
    "from langchain.chains import LLMChain\n",
    "from langchain.chains import SequentialChain\n",
    "from langchain.callbacks import get_openai_callback\n",
    "import PyPDF2"
   ]
  },
  {
   "cell_type": "code",
   "execution_count": 10,
   "metadata": {},
   "outputs": [],
   "source": [
    "RESPONSE_JSON = {\n",
    "    \"1\": {\n",
    "        \"mcq\": \"multiple choice question\",\n",
    "        \"options\": {\n",
    "            \"a\": \"choice here\",\n",
    "            \"b\": \"choice here\",\n",
    "            \"c\": \"choice here\",\n",
    "            \"d\": \"choice here\",\n",
    "        },\n",
    "        \"correct\": \"correct answer\",\n",
    "    },\n",
    "    \"2\": {\n",
    "        \"mcq\": \"multiple choice question\",\n",
    "        \"options\": {\n",
    "            \"a\": \"choice here\",\n",
    "            \"b\": \"choice here\",\n",
    "            \"c\": \"choice here\",\n",
    "            \"d\": \"choice here\",\n",
    "        },\n",
    "        \"correct\": \"correct answer\",\n",
    "    },\n",
    "    \"3\": {\n",
    "        \"mcq\": \"multiple choice question\",\n",
    "        \"options\": {\n",
    "            \"a\": \"choice here\",\n",
    "            \"b\": \"choice here\",\n",
    "            \"c\": \"choice here\",\n",
    "            \"d\": \"choice here\",\n",
    "        },\n",
    "        \"correct\": \"correct answer\",\n",
    "    },\n",
    "}"
   ]
  },
  {
   "cell_type": "code",
   "execution_count": 11,
   "metadata": {},
   "outputs": [],
   "source": [
    "TEMPLATE = \"\"\"\n",
    "Text = {text}\n",
    "You are an expert MCQ Maker. Given the above text, it is your job to \\\n",
    "create a quiz of {number} multiple choice questions for {subject} students in {tone} tone.\n",
    "Make sure that the questions are not repeated and check all the questions to be confirming the text as well.\n",
    "Make sure you format your response like RESPONSE_JSON below and use it as a guide. \\\n",
    "Ensure to make {number} MCQs\n",
    "#### RESPONSE_JSON\n",
    "{response_json}\n",
    "\n",
    "\"\"\""
   ]
  },
  {
   "cell_type": "code",
   "execution_count": 12,
   "metadata": {},
   "outputs": [],
   "source": [
    "quiz_generation_prompt = PromptTemplate(\n",
    "    input_variables=['text','number','subject','tone','response_json'],\n",
    "    template = TEMPLATE\n",
    ")"
   ]
  },
  {
   "cell_type": "code",
   "execution_count": 13,
   "metadata": {},
   "outputs": [],
   "source": [
    "quiz_chain = LLMChain(llm=llm, prompt=quiz_generation_prompt, output_key='quiz',verbose=True)"
   ]
  },
  {
   "cell_type": "code",
   "execution_count": 14,
   "metadata": {},
   "outputs": [],
   "source": [
    "TEMPLATE2=\"\"\"\n",
    "You are an expert english grammarian and writer. Given a Multiple Choice Quiz for {subject} students.\\\n",
    "You need to evaluate the complexity of the question and give a complete analysis of the quiz. Only use at max 50 words for complexity analysis. \n",
    "if the quiz is not at per with the cognitive and analytical abilities of the students,\\\n",
    "update the quiz questions which needs to be changed and change the tone such that it perfectly fits the student abilities\n",
    "Quiz_MCQs:\n",
    "{quiz}\n",
    "\n",
    "Check from an expert English Writer of the above quiz:\n",
    "\"\"\""
   ]
  },
  {
   "cell_type": "code",
   "execution_count": 15,
   "metadata": {},
   "outputs": [],
   "source": [
    "quiz_evaluation_prompt = PromptTemplate(\n",
    "    input_variables=['subject','quiz'], \n",
    "    template=TEMPLATE\n",
    ")"
   ]
  },
  {
   "cell_type": "code",
   "execution_count": 16,
   "metadata": {},
   "outputs": [],
   "source": [
    "review_chain = LLMChain(llm=llm, prompt=quiz_evaluation_prompt, output_key='review', verbose=True)"
   ]
  },
  {
   "cell_type": "code",
   "execution_count": 17,
   "metadata": {},
   "outputs": [],
   "source": [
    "generate_evaluate_chain = SequentialChain(\n",
    "    chains = [quiz_chain,review_chain],\n",
    "    input_variables=['text','number','subject','tone','response_json'],\n",
    "    output_variables=['quiz','review'],\n",
    "    verbose=True\n",
    ")"
   ]
  },
  {
   "cell_type": "code",
   "execution_count": 18,
   "metadata": {},
   "outputs": [],
   "source": [
    "file_path = 'E:\\Gen AI - YT - Sunny\\mcq_generator\\data.txt'"
   ]
  },
  {
   "cell_type": "code",
   "execution_count": 19,
   "metadata": {},
   "outputs": [],
   "source": [
    "with open(file_path, 'r') as f:\n",
    "    TEXT = f.read()"
   ]
  },
  {
   "cell_type": "code",
   "execution_count": 20,
   "metadata": {},
   "outputs": [
    {
     "name": "stdout",
     "output_type": "stream",
     "text": [
      "In physics, a force is a push or pull between objects. It is called an interaction because if one object acts on another, its action is matched by a reaction from the other object.[1] This idea is known as Newton's third law,[2] where action and reaction are \"equal and opposite\" [3] (matched). The objects are just the things the force acts between. Different forces act between different sorts of object. For example, gravity acts between objects with mass, like the sun and the earth. Another example is electromagnetic force, which acts between objects with charge, like an electron and the nucleus of an atom. Gravity and electromagnetic force are two examples of forces.\n",
      "\n",
      "A force changes the state of an object (some physical quantity changes) or, strictly, the states of two objects, since the force is an interaction. For example, a force causes an affected object to be pushed or pulled in a certain direction. This changes the object's momentum. Forces cause objects to accelerate, add to the object's overall pressure, change direction, or change shape. Because the magnitude and direction of a force are both important, force is a vector quantity. The strength of a force is measured in newtons (N). There are four fundamental forces in physics.\n",
      "\n",
      "A force is always a push, pull, or a twist, and it affects objects by pushing them up, pulling them down, pushing them to a side, or by changing their motion or shape in some other way.\n"
     ]
    }
   ],
   "source": [
    "print(TEXT)"
   ]
  },
  {
   "cell_type": "code",
   "execution_count": 21,
   "metadata": {},
   "outputs": [
    {
     "data": {
      "text/plain": [
       "'{\"1\": {\"mcq\": \"multiple choice question\", \"options\": {\"a\": \"choice here\", \"b\": \"choice here\", \"c\": \"choice here\", \"d\": \"choice here\"}, \"correct\": \"correct answer\"}, \"2\": {\"mcq\": \"multiple choice question\", \"options\": {\"a\": \"choice here\", \"b\": \"choice here\", \"c\": \"choice here\", \"d\": \"choice here\"}, \"correct\": \"correct answer\"}, \"3\": {\"mcq\": \"multiple choice question\", \"options\": {\"a\": \"choice here\", \"b\": \"choice here\", \"c\": \"choice here\", \"d\": \"choice here\"}, \"correct\": \"correct answer\"}}'"
      ]
     },
     "execution_count": 21,
     "metadata": {},
     "output_type": "execute_result"
    }
   ],
   "source": [
    "# Serialize the Python dictionary into a JSON-formatted string\n",
    "json.dumps(RESPONSE_JSON)"
   ]
  },
  {
   "cell_type": "code",
   "execution_count": 22,
   "metadata": {},
   "outputs": [],
   "source": [
    "NUMBER = 5\n",
    "SUBJECT = 'Biology'\n",
    "TONE = 'simple'"
   ]
  },
  {
   "cell_type": "code",
   "execution_count": 23,
   "metadata": {},
   "outputs": [
    {
     "name": "stderr",
     "output_type": "stream",
     "text": [
      "e:\\Gen AI - YT - Sunny\\mcq_generator\\env\\lib\\site-packages\\langchain_core\\_api\\deprecation.py:117: LangChainDeprecationWarning: The function `__call__` was deprecated in LangChain 0.1.0 and will be removed in 0.2.0. Use invoke instead.\n",
      "  warn_deprecated(\n"
     ]
    },
    {
     "name": "stdout",
     "output_type": "stream",
     "text": [
      "\n",
      "\n",
      "\u001b[1m> Entering new SequentialChain chain...\u001b[0m\n",
      "\n",
      "\n",
      "\u001b[1m> Entering new LLMChain chain...\u001b[0m\n",
      "Prompt after formatting:\n",
      "\u001b[32;1m\u001b[1;3m\n",
      "Text = In physics, a force is a push or pull between objects. It is called an interaction because if one object acts on another, its action is matched by a reaction from the other object.[1] This idea is known as Newton's third law,[2] where action and reaction are \"equal and opposite\" [3] (matched). The objects are just the things the force acts between. Different forces act between different sorts of object. For example, gravity acts between objects with mass, like the sun and the earth. Another example is electromagnetic force, which acts between objects with charge, like an electron and the nucleus of an atom. Gravity and electromagnetic force are two examples of forces.\n",
      "\n",
      "A force changes the state of an object (some physical quantity changes) or, strictly, the states of two objects, since the force is an interaction. For example, a force causes an affected object to be pushed or pulled in a certain direction. This changes the object's momentum. Forces cause objects to accelerate, add to the object's overall pressure, change direction, or change shape. Because the magnitude and direction of a force are both important, force is a vector quantity. The strength of a force is measured in newtons (N). There are four fundamental forces in physics.\n",
      "\n",
      "A force is always a push, pull, or a twist, and it affects objects by pushing them up, pulling them down, pushing them to a side, or by changing their motion or shape in some other way.\n",
      "You are an expert MCQ Maker. Given the above text, it is your job to create a quiz of 5 multiple choice questions for Biology students in simple tone.\n",
      "Make sure that the questions are not repeated and check all the questions to be confirming the text as well.\n",
      "Make sure you format your response like RESPONSE_JSON below and use it as a guide. Ensure to make 5 MCQs\n",
      "#### RESPONSE_JSON\n",
      "{\"1\": {\"mcq\": \"multiple choice question\", \"options\": {\"a\": \"choice here\", \"b\": \"choice here\", \"c\": \"choice here\", \"d\": \"choice here\"}, \"correct\": \"correct answer\"}, \"2\": {\"mcq\": \"multiple choice question\", \"options\": {\"a\": \"choice here\", \"b\": \"choice here\", \"c\": \"choice here\", \"d\": \"choice here\"}, \"correct\": \"correct answer\"}, \"3\": {\"mcq\": \"multiple choice question\", \"options\": {\"a\": \"choice here\", \"b\": \"choice here\", \"c\": \"choice here\", \"d\": \"choice here\"}, \"correct\": \"correct answer\"}}\n",
      "\n",
      "\u001b[0m\n",
      "\n",
      "\u001b[1m> Finished chain.\u001b[0m\n",
      "\n",
      "\n",
      "\u001b[1m> Entering new LLMChain chain...\u001b[0m\n",
      "Prompt after formatting:\n",
      "\u001b[32;1m\u001b[1;3m\n",
      "Text = In physics, a force is a push or pull between objects. It is called an interaction because if one object acts on another, its action is matched by a reaction from the other object.[1] This idea is known as Newton's third law,[2] where action and reaction are \"equal and opposite\" [3] (matched). The objects are just the things the force acts between. Different forces act between different sorts of object. For example, gravity acts between objects with mass, like the sun and the earth. Another example is electromagnetic force, which acts between objects with charge, like an electron and the nucleus of an atom. Gravity and electromagnetic force are two examples of forces.\n",
      "\n",
      "A force changes the state of an object (some physical quantity changes) or, strictly, the states of two objects, since the force is an interaction. For example, a force causes an affected object to be pushed or pulled in a certain direction. This changes the object's momentum. Forces cause objects to accelerate, add to the object's overall pressure, change direction, or change shape. Because the magnitude and direction of a force are both important, force is a vector quantity. The strength of a force is measured in newtons (N). There are four fundamental forces in physics.\n",
      "\n",
      "A force is always a push, pull, or a twist, and it affects objects by pushing them up, pulling them down, pushing them to a side, or by changing their motion or shape in some other way.\n",
      "You are an expert MCQ Maker. Given the above text, it is your job to create a quiz of 5 multiple choice questions for Biology students in simple tone.\n",
      "Make sure that the questions are not repeated and check all the questions to be confirming the text as well.\n",
      "Make sure you format your response like RESPONSE_JSON below and use it as a guide. Ensure to make 5 MCQs\n",
      "#### RESPONSE_JSON\n",
      "{\"1\": {\"mcq\": \"multiple choice question\", \"options\": {\"a\": \"choice here\", \"b\": \"choice here\", \"c\": \"choice here\", \"d\": \"choice here\"}, \"correct\": \"correct answer\"}, \"2\": {\"mcq\": \"multiple choice question\", \"options\": {\"a\": \"choice here\", \"b\": \"choice here\", \"c\": \"choice here\", \"d\": \"choice here\"}, \"correct\": \"correct answer\"}, \"3\": {\"mcq\": \"multiple choice question\", \"options\": {\"a\": \"choice here\", \"b\": \"choice here\", \"c\": \"choice here\", \"d\": \"choice here\"}, \"correct\": \"correct answer\"}}\n",
      "\n",
      "\u001b[0m\n",
      "\n",
      "\u001b[1m> Finished chain.\u001b[0m\n",
      "\n",
      "\u001b[1m> Finished chain.\u001b[0m\n"
     ]
    }
   ],
   "source": [
    "#https://python.langchain.com/docs/modules/model_io/llms/token_usage_tracking\n",
    "\n",
    "#How to setup Token Usage Tracking in LangChain\n",
    "with get_openai_callback() as cb:\n",
    "    response = generate_evaluate_chain(\n",
    "        {\n",
    "        'text':TEXT,\n",
    "        'number':NUMBER,\n",
    "        'subject':SUBJECT,\n",
    "        'tone':TONE,\n",
    "        'response_json':json.dumps(RESPONSE_JSON)\n",
    "        }\n",
    "    )"
   ]
  },
  {
   "cell_type": "code",
   "execution_count": 24,
   "metadata": {},
   "outputs": [
    {
     "name": "stdout",
     "output_type": "stream",
     "text": [
      "Total Tokens:1728\n",
      "Prompt Tokens:1090\n",
      "Completion Tokens:638\n",
      "Total Cost:0.0029110000000000004\n"
     ]
    }
   ],
   "source": [
    "print(f\"Total Tokens:{cb.total_tokens}\")\n",
    "print(f\"Prompt Tokens:{cb.prompt_tokens}\")\n",
    "print(f\"Completion Tokens:{cb.completion_tokens}\")\n",
    "print(f\"Total Cost:{cb.total_cost}\")"
   ]
  },
  {
   "cell_type": "code",
   "execution_count": 25,
   "metadata": {},
   "outputs": [
    {
     "data": {
      "text/plain": [
       "{'text': 'In physics, a force is a push or pull between objects. It is called an interaction because if one object acts on another, its action is matched by a reaction from the other object.[1] This idea is known as Newton\\'s third law,[2] where action and reaction are \"equal and opposite\" [3] (matched). The objects are just the things the force acts between. Different forces act between different sorts of object. For example, gravity acts between objects with mass, like the sun and the earth. Another example is electromagnetic force, which acts between objects with charge, like an electron and the nucleus of an atom. Gravity and electromagnetic force are two examples of forces.\\n\\nA force changes the state of an object (some physical quantity changes) or, strictly, the states of two objects, since the force is an interaction. For example, a force causes an affected object to be pushed or pulled in a certain direction. This changes the object\\'s momentum. Forces cause objects to accelerate, add to the object\\'s overall pressure, change direction, or change shape. Because the magnitude and direction of a force are both important, force is a vector quantity. The strength of a force is measured in newtons (N). There are four fundamental forces in physics.\\n\\nA force is always a push, pull, or a twist, and it affects objects by pushing them up, pulling them down, pushing them to a side, or by changing their motion or shape in some other way.',\n",
       " 'number': 5,\n",
       " 'subject': 'Biology',\n",
       " 'tone': 'simple',\n",
       " 'response_json': '{\"1\": {\"mcq\": \"multiple choice question\", \"options\": {\"a\": \"choice here\", \"b\": \"choice here\", \"c\": \"choice here\", \"d\": \"choice here\"}, \"correct\": \"correct answer\"}, \"2\": {\"mcq\": \"multiple choice question\", \"options\": {\"a\": \"choice here\", \"b\": \"choice here\", \"c\": \"choice here\", \"d\": \"choice here\"}, \"correct\": \"correct answer\"}, \"3\": {\"mcq\": \"multiple choice question\", \"options\": {\"a\": \"choice here\", \"b\": \"choice here\", \"c\": \"choice here\", \"d\": \"choice here\"}, \"correct\": \"correct answer\"}}',\n",
       " 'quiz': '{\\n\"1\": {\\n\"mcq\": \"What is a force in physics?\",\\n\"options\": {\\n\"a\": \"A push or pull between objects\",\\n\"b\": \"A type of energy\",\\n\"c\": \"A form of matter\",\\n\"d\": \"A type of motion\"\\n},\\n\"correct\": \"a\"\\n},\\n\"2\": {\\n\"mcq\": \"Which law states that for every action, there is an equal and opposite reaction?\",\\n\"options\": {\\n\"a\": \"Newton\\'s first law\",\\n\"b\": \"Newton\\'s second law\",\\n\"c\": \"Newton\\'s third law\",\\n\"d\": \"Newton\\'s fourth law\"\\n},\\n\"correct\": \"c\"\\n},\\n\"3\": {\\n\"mcq\": \"What is the unit of measurement for the strength of a force?\",\\n\"options\": {\\n\"a\": \"Kilograms\",\\n\"b\": \"Meters\",\\n\"c\": \"Newtons\",\\n\"d\": \"Watts\"\\n},\\n\"correct\": \"c\"\\n},\\n\"4\": {\\n\"mcq\": \"Which force acts between objects with mass?\",\\n\"options\": {\\n\"a\": \"Electromagnetic force\",\\n\"b\": \"Gravity\",\\n\"c\": \"Friction\",\\n\"d\": \"Tension\"\\n},\\n\"correct\": \"b\"\\n},\\n\"5\": {\\n\"mcq\": \"How does a force affect objects?\",\\n\"options\": {\\n\"a\": \"By changing their color\",\\n\"b\": \"By changing their taste\",\\n\"c\": \"By changing their motion or shape\",\\n\"d\": \"By changing their temperature\"\\n},\\n\"correct\": \"c\"\\n}\\n}',\n",
       " 'review': '{\\n\"1\": {\\n\"mcq\": \"What is a force in physics?\",\\n\"options\": {\\n\"a\": \"A push or pull between objects\",\\n\"b\": \"A form of energy\",\\n\"c\": \"A type of matter\",\\n\"d\": \"A type of wave\"\\n},\\n\"correct\": \"a\"\\n},\\n\"2\": {\\n\"mcq\": \"Which law states that for every action, there is an equal and opposite reaction?\",\\n\"options\": {\\n\"a\": \"Newton\\'s first law\",\\n\"b\": \"Newton\\'s second law\",\\n\"c\": \"Newton\\'s third law\",\\n\"d\": \"Newton\\'s fourth law\"\\n},\\n\"correct\": \"c\"\\n},\\n\"3\": {\\n\"mcq\": \"What is the unit of measurement for the strength of a force?\",\\n\"options\": {\\n\"a\": \"Meters\",\\n\"b\": \"Kilograms\",\\n\"c\": \"Newtons\",\\n\"d\": \"Seconds\"\\n},\\n\"correct\": \"c\"\\n},\\n\"4\": {\\n\"mcq\": \"Which force acts between objects with mass, like the sun and the earth?\",\\n\"options\": {\\n\"a\": \"Electromagnetic force\",\\n\"b\": \"Nuclear force\",\\n\"c\": \"Gravitational force\",\\n\"d\": \"Frictional force\"\\n},\\n\"correct\": \"c\"\\n},\\n\"5\": {\\n\"mcq\": \"How does a force affect objects?\",\\n\"options\": {\\n\"a\": \"By changing their color\",\\n\"b\": \"By changing their taste\",\\n\"c\": \"By changing their motion or shape\",\\n\"d\": \"By changing their temperature\"\\n},\\n\"correct\": \"c\"\\n}\\n}'}"
      ]
     },
     "execution_count": 25,
     "metadata": {},
     "output_type": "execute_result"
    }
   ],
   "source": [
    "response"
   ]
  },
  {
   "cell_type": "code",
   "execution_count": 26,
   "metadata": {},
   "outputs": [],
   "source": [
    "quiz = response['quiz']"
   ]
  },
  {
   "cell_type": "code",
   "execution_count": 27,
   "metadata": {},
   "outputs": [],
   "source": [
    "quiz = json.loads(quiz)"
   ]
  },
  {
   "cell_type": "code",
   "execution_count": 28,
   "metadata": {},
   "outputs": [],
   "source": [
    "quiz_table_data = []\n",
    "for key, value in quiz.items():\n",
    "    mcq = value[\"mcq\"]\n",
    "    options = \" | \".join(\n",
    "        [\n",
    "            f\"{option}: {option_value}\"\n",
    "            for option, option_value in value[\"options\"].items()\n",
    "            ]\n",
    "        )\n",
    "    correct = value[\"correct\"]\n",
    "    quiz_table_data.append({\"MCQ\": mcq, \"Choices\": options, \"Correct\": correct})"
   ]
  },
  {
   "cell_type": "code",
   "execution_count": 29,
   "metadata": {},
   "outputs": [
    {
     "data": {
      "text/plain": [
       "[{'MCQ': 'What is a force in physics?',\n",
       "  'Choices': 'a: A push or pull between objects | b: A type of energy | c: A form of matter | d: A type of motion',\n",
       "  'Correct': 'a'},\n",
       " {'MCQ': 'Which law states that for every action, there is an equal and opposite reaction?',\n",
       "  'Choices': \"a: Newton's first law | b: Newton's second law | c: Newton's third law | d: Newton's fourth law\",\n",
       "  'Correct': 'c'},\n",
       " {'MCQ': 'What is the unit of measurement for the strength of a force?',\n",
       "  'Choices': 'a: Kilograms | b: Meters | c: Newtons | d: Watts',\n",
       "  'Correct': 'c'},\n",
       " {'MCQ': 'Which force acts between objects with mass?',\n",
       "  'Choices': 'a: Electromagnetic force | b: Gravity | c: Friction | d: Tension',\n",
       "  'Correct': 'b'},\n",
       " {'MCQ': 'How does a force affect objects?',\n",
       "  'Choices': 'a: By changing their color | b: By changing their taste | c: By changing their motion or shape | d: By changing their temperature',\n",
       "  'Correct': 'c'}]"
      ]
     },
     "execution_count": 29,
     "metadata": {},
     "output_type": "execute_result"
    }
   ],
   "source": [
    "quiz_table_data"
   ]
  },
  {
   "cell_type": "code",
   "execution_count": 30,
   "metadata": {},
   "outputs": [],
   "source": [
    "quiz = pd.DataFrame(quiz_table_data)"
   ]
  },
  {
   "cell_type": "code",
   "execution_count": 31,
   "metadata": {},
   "outputs": [],
   "source": [
    "quiz.to_csv('Biology_quiz', index=False)"
   ]
  },
  {
   "cell_type": "code",
   "execution_count": 32,
   "metadata": {},
   "outputs": [
    {
     "data": {
      "text/html": [
       "<div>\n",
       "<style scoped>\n",
       "    .dataframe tbody tr th:only-of-type {\n",
       "        vertical-align: middle;\n",
       "    }\n",
       "\n",
       "    .dataframe tbody tr th {\n",
       "        vertical-align: top;\n",
       "    }\n",
       "\n",
       "    .dataframe thead th {\n",
       "        text-align: right;\n",
       "    }\n",
       "</style>\n",
       "<table border=\"1\" class=\"dataframe\">\n",
       "  <thead>\n",
       "    <tr style=\"text-align: right;\">\n",
       "      <th></th>\n",
       "      <th>MCQ</th>\n",
       "      <th>Choices</th>\n",
       "      <th>Correct</th>\n",
       "    </tr>\n",
       "  </thead>\n",
       "  <tbody>\n",
       "    <tr>\n",
       "      <th>0</th>\n",
       "      <td>What is a force in physics?</td>\n",
       "      <td>a: A push or pull between objects | b: A type ...</td>\n",
       "      <td>a</td>\n",
       "    </tr>\n",
       "    <tr>\n",
       "      <th>1</th>\n",
       "      <td>Which law states that for every action, there ...</td>\n",
       "      <td>a: Newton's first law | b: Newton's second law...</td>\n",
       "      <td>c</td>\n",
       "    </tr>\n",
       "    <tr>\n",
       "      <th>2</th>\n",
       "      <td>What is the unit of measurement for the streng...</td>\n",
       "      <td>a: Kilograms | b: Meters | c: Newtons | d: Watts</td>\n",
       "      <td>c</td>\n",
       "    </tr>\n",
       "    <tr>\n",
       "      <th>3</th>\n",
       "      <td>Which force acts between objects with mass?</td>\n",
       "      <td>a: Electromagnetic force | b: Gravity | c: Fri...</td>\n",
       "      <td>b</td>\n",
       "    </tr>\n",
       "    <tr>\n",
       "      <th>4</th>\n",
       "      <td>How does a force affect objects?</td>\n",
       "      <td>a: By changing their color | b: By changing th...</td>\n",
       "      <td>c</td>\n",
       "    </tr>\n",
       "  </tbody>\n",
       "</table>\n",
       "</div>"
      ],
      "text/plain": [
       "                                                 MCQ  \\\n",
       "0                        What is a force in physics?   \n",
       "1  Which law states that for every action, there ...   \n",
       "2  What is the unit of measurement for the streng...   \n",
       "3        Which force acts between objects with mass?   \n",
       "4                   How does a force affect objects?   \n",
       "\n",
       "                                             Choices Correct  \n",
       "0  a: A push or pull between objects | b: A type ...       a  \n",
       "1  a: Newton's first law | b: Newton's second law...       c  \n",
       "2   a: Kilograms | b: Meters | c: Newtons | d: Watts       c  \n",
       "3  a: Electromagnetic force | b: Gravity | c: Fri...       b  \n",
       "4  a: By changing their color | b: By changing th...       c  "
      ]
     },
     "execution_count": 32,
     "metadata": {},
     "output_type": "execute_result"
    }
   ],
   "source": [
    "quiz"
   ]
  },
  {
   "cell_type": "code",
   "execution_count": null,
   "metadata": {},
   "outputs": [],
   "source": []
  }
 ],
 "metadata": {
  "kernelspec": {
   "display_name": "Python 3",
   "language": "python",
   "name": "python3"
  },
  "language_info": {
   "codemirror_mode": {
    "name": "ipython",
    "version": 3
   },
   "file_extension": ".py",
   "mimetype": "text/x-python",
   "name": "python",
   "nbconvert_exporter": "python",
   "pygments_lexer": "ipython3",
   "version": "3.8.18"
  }
 },
 "nbformat": 4,
 "nbformat_minor": 2
}
